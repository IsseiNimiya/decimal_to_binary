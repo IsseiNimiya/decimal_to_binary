{
  "nbformat": 4,
  "nbformat_minor": 0,
  "metadata": {
    "colab": {
      "provenance": [],
      "authorship_tag": "ABX9TyMWnmxFHJ5Eobxv6UkvdkTq",
      "include_colab_link": true
    },
    "kernelspec": {
      "name": "python3",
      "display_name": "Python 3"
    },
    "language_info": {
      "name": "python"
    }
  },
  "cells": [
    {
      "cell_type": "markdown",
      "metadata": {
        "id": "view-in-github",
        "colab_type": "text"
      },
      "source": [
        "<a href=\"https://colab.research.google.com/github/IsseiNimiya/decimal_to_binary/blob/main/decimal_to_binary.ipynb\" target=\"_parent\"><img src=\"https://colab.research.google.com/assets/colab-badge.svg\" alt=\"Open In Colab\"/></a>"
      ]
    },
    {
      "cell_type": "code",
      "execution_count": 1,
      "metadata": {
        "colab": {
          "base_uri": "https://localhost:8080/"
        },
        "id": "xdG1GHj9s0l7",
        "outputId": "c1923fc1-3f4e-4627-e018-aeaee3311091"
      },
      "outputs": [
        {
          "output_type": "stream",
          "name": "stdout",
          "text": [
            "10進数: 0\n",
            "2進数:\n",
            "1\n",
            "  1\n",
            "    1\n",
            "      0\n",
            "        1\n",
            "29 の2進数表現は 11101 です。\n"
          ]
        }
      ],
      "source": [
        "# 10進数を2進数に変換する関数\n",
        "def decimal_to_binary(decimal):\n",
        "    binary = \"\"  # 空の文字列を用意\n",
        "    \n",
        "    # decimalが0になるまで2で割り続ける\n",
        "    while decimal > 0:\n",
        "        binary = str(decimal % 2) + binary  # 余りを文字列に追加\n",
        "        decimal //= 2  # decimalを2で割った商を代入\n",
        "    \n",
        "    # 計算過程の表示\n",
        "    print(\"10進数:\", decimal)\n",
        "    print(\"2進数:\")\n",
        "    for i in range(len(binary)):\n",
        "        print(\"  \"*(i) + binary[i])\n",
        "    \n",
        "    return binary\n",
        "\n",
        "# テスト用の実行例\n",
        "decimal = int(input())\n",
        "binary = decimal_to_binary(decimal)\n",
        "print(decimal, \"の2進数表現は\", binary, \"です。\")\n"
      ]
    }
  ]
}
