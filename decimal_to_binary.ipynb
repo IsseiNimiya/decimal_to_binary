{
  "nbformat": 4,
  "nbformat_minor": 0,
  "metadata": {
    "colab": {
      "provenance": [],
      "authorship_tag": "ABX9TyM0yxEuRMuyFSgpEr9HU0y0",
      "include_colab_link": true
    },
    "kernelspec": {
      "name": "python3",
      "display_name": "Python 3"
    },
    "language_info": {
      "name": "python"
    }
  },
  "cells": [
    {
      "cell_type": "markdown",
      "metadata": {
        "id": "view-in-github",
        "colab_type": "text"
      },
      "source": [
        "<a href=\"https://colab.research.google.com/github/IsseiNimiya/decimal_to_binary/blob/main/decimal_to_binary.ipynb\" target=\"_parent\"><img src=\"https://colab.research.google.com/assets/colab-badge.svg\" alt=\"Open In Colab\"/></a>"
      ]
    },
    {
      "cell_type": "markdown",
      "source": [
        "#10進数を2進数に変換する"
      ],
      "metadata": {
        "id": "MvwF--3j3sDP"
      }
    },
    {
      "cell_type": "code",
      "execution_count": 1,
      "metadata": {
        "colab": {
          "base_uri": "https://localhost:8080/"
        },
        "id": "xdG1GHj9s0l7",
        "outputId": "c1923fc1-3f4e-4627-e018-aeaee3311091"
      },
      "outputs": [
        {
          "output_type": "stream",
          "name": "stdout",
          "text": [
            "10進数: 0\n",
            "2進数:\n",
            "1\n",
            "  1\n",
            "    1\n",
            "      0\n",
            "        1\n",
            "29 の2進数表現は 11101 です。\n"
          ]
        }
      ],
      "source": [
        "# 10進数を2進数に変換する関数\n",
        "def decimal_to_binary(decimal):\n",
        "    binary = \"\"  # 空の文字列を用意\n",
        "    \n",
        "    # decimalが0になるまで2で割り続ける\n",
        "    while decimal > 0:\n",
        "        binary = str(decimal % 2) + binary  # 余りを文字列に追加\n",
        "        decimal //= 2  # decimalを2で割った商を代入\n",
        "    \n",
        "    # 計算過程の表示\n",
        "    print(\"10進数:\", decimal)\n",
        "    print(\"2進数:\")\n",
        "    for i in range(len(binary)):\n",
        "        print(\"  \"*(i) + binary[i])\n",
        "    \n",
        "    return binary\n",
        "\n",
        "# テスト用の実行例\n",
        "decimal = int(input())\n",
        "binary = decimal_to_binary(decimal)\n",
        "print(decimal, \"の2進数表現は\", binary, \"です。\")\n"
      ]
    },
    {
      "cell_type": "markdown",
      "source": [
        "# 2進数を10進数に変換する"
      ],
      "metadata": {
        "id": "KhzvveF83aGE"
      }
    },
    {
      "cell_type": "code",
      "source": [
        "# 2進数を10進数に変換する関数\n",
        "def binary_to_decimal(binary):\n",
        "    decimal = 0  # 10進数を格納する変数を用意\n",
        "    length = len(binary)  # 2進数の桁数を求める\n",
        "    \n",
        "    # 各桁の2のべき乗を計算して足し合わせる\n",
        "    for i in range(length):\n",
        "        digit = int(binary[i])  # 文字列から数値に変換\n",
        "        power = 2**(length-i-1)  # 2のべき乗を計算\n",
        "        decimal += digit * power  # 足し合わせる\n",
        "    \n",
        "    # 計算過程の表示\n",
        "    print(\"2進数:\", binary)\n",
        "    print(\"10進数:\")\n",
        "    for i in range(length):\n",
        "        digit = int(binary[i])\n",
        "        power = 2**(length-i-1)\n",
        "        print(\"  {} * {} = {}\".format(digit, power, digit*power))\n",
        "    print(\"  合計 =\", decimal)\n",
        "    \n",
        "    return decimal\n",
        "\n",
        "# テスト用の実行例\n",
        "binary = input()\n",
        "decimal = binary_to_decimal(binary)\n",
        "print(binary, \"の10進数表現は\", decimal, \"です。\")\n"
      ],
      "metadata": {
        "colab": {
          "base_uri": "https://localhost:8080/"
        },
        "id": "_zcuM_nE3ln_",
        "outputId": "4ccf5404-12ee-4e98-dca3-65b5095d1c92"
      },
      "execution_count": 3,
      "outputs": [
        {
          "output_type": "stream",
          "name": "stdout",
          "text": [
            "1101\n",
            "2進数: 1101\n",
            "10進数:\n",
            "  1 * 8 = 8\n",
            "  1 * 4 = 4\n",
            "  0 * 2 = 0\n",
            "  1 * 1 = 1\n",
            "  合計 = 13\n",
            "1101 の10進数表現は 13 です。\n"
          ]
        }
      ]
    }
  ]
}